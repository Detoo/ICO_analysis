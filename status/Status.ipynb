{
 "cells": [
  {
   "cell_type": "code",
   "execution_count": 1,
   "metadata": {
    "collapsed": true
   },
   "outputs": [],
   "source": [
    "# Needed for adding my version of py_etherscan_api package on personal Mac\n",
    "import sys\n",
    "sys.path.append('/Library/Frameworks/Python.framework/Versions/3.5/lib/python3.5/site-packages/')"
   ]
  },
  {
   "cell_type": "code",
   "execution_count": 2,
   "metadata": {
    "collapsed": true,
    "scrolled": true
   },
   "outputs": [],
   "source": [
    "import etherscan.accounts as accounts\n",
    "import pandas as pd\n",
    "import json"
   ]
  },
  {
   "cell_type": "code",
   "execution_count": 3,
   "metadata": {},
   "outputs": [
    {
     "name": "stderr",
     "output_type": "stream",
     "text": [
      "IOPub data rate exceeded.\n",
      "The notebook server will temporarily stop sending output\n",
      "to the client in order to avoid crashing it.\n",
      "To change this limit, set the config variable\n",
      "`--NotebookApp.iopub_data_rate_limit`.\n"
     ]
    }
   ],
   "source": [
    "from plotly import __version__\n",
    "from plotly.offline import download_plotlyjs, init_notebook_mode, iplot\n",
    "from plotly.offline import plot\n",
    "from plotly.graph_objs import Scatter, Data, Box, Bar\n",
    "from plotly.graph_objs import Scattergl\n",
    "init_notebook_mode() # run at the start of every ipython notebook to use plotly.offline\n",
    "                     # this injects the plotly.js source files into the notebook\n",
    "from plotly.tools import FigureFactory as FF\n",
    "import plotly.plotly as py\n",
    "import plotly.graph_objs as go\n",
    "from plotly import tools\n",
    "\n",
    "%matplotlib inline\n",
    "import matplotlib as plt\n",
    "# import cufflinks as cf\n",
    "# cf.set_config_file(offline=True, world_readable=True, theme='ggplot')"
   ]
  },
  {
   "cell_type": "markdown",
   "metadata": {},
   "source": [
    "## Pull transactions"
   ]
  },
  {
   "cell_type": "code",
   "execution_count": 4,
   "metadata": {
    "collapsed": true
   },
   "outputs": [],
   "source": [
    "with open('../api_key.json', 'r') as key_file:\n",
    "    key = json.loads(key_file.read())['key']"
   ]
  },
  {
   "cell_type": "code",
   "execution_count": 5,
   "metadata": {
    "collapsed": true
   },
   "outputs": [],
   "source": [
    "api = accounts.Account(address=\"0x55d34b686aa8C04921397c5807DB9ECEdba00a4c\", api_key=key)"
   ]
  },
  {
   "cell_type": "code",
   "execution_count": 6,
   "metadata": {
    "scrolled": true
   },
   "outputs": [
    {
     "name": "stdout",
     "output_type": "stream",
     "text": [
      "page 1 added\n",
      "page 2 added\n",
      "page 3 added\n",
      "page 4 added\n",
      "page 5 added\n",
      "page 6 added\n",
      "page 7 added\n",
      "page 8 added\n",
      "page 9 added\n",
      "page 10 added\n",
      "Total number of transactions: 97189\n"
     ]
    }
   ],
   "source": [
    "transactions = api.get_all_transactions()\n",
    "df = pd.DataFrame(transactions)\n",
    "df.value = df.value.astype(float)/ 1000000000000000000\n",
    "df.timeStamp = pd.to_datetime(df.timeStamp, unit='s')\n",
    "df.blockNumber = df.blockNumber.astype(int)"
   ]
  },
  {
   "cell_type": "code",
   "execution_count": 7,
   "metadata": {
    "collapsed": true
   },
   "outputs": [],
   "source": [
    "df.to_pickle('status_pickle.p')"
   ]
  },
  {
   "cell_type": "markdown",
   "metadata": {},
   "source": [
    "## Grab Internal Transactions"
   ]
  },
  {
   "cell_type": "code",
   "execution_count": 8,
   "metadata": {},
   "outputs": [
    {
     "name": "stdout",
     "output_type": "stream",
     "text": [
      "page 1 added\n",
      "page 2 added\n",
      "page 3 added\n",
      "page 4 added\n",
      "page 5 added\n",
      "Total number of transactions: 40010\n"
     ]
    }
   ],
   "source": [
    "transactions = api.get_all_transactions(internal=True)\n",
    "df_int = pd.DataFrame(transactions)\n",
    "df_int.value = df_int.value.astype(float)/ 1000000000000000000\n",
    "df_int.timeStamp = pd.to_datetime(df_int.timeStamp, unit='s')\n",
    "df_int.blockNumber = df_int.blockNumber.astype(int)"
   ]
  },
  {
   "cell_type": "code",
   "execution_count": 9,
   "metadata": {},
   "outputs": [
    {
     "data": {
      "text/html": [
       "<div>\n",
       "<table border=\"1\" class=\"dataframe\">\n",
       "  <thead>\n",
       "    <tr style=\"text-align: right;\">\n",
       "      <th></th>\n",
       "      <th>blockNumber</th>\n",
       "      <th>contractAddress</th>\n",
       "      <th>errCode</th>\n",
       "      <th>from</th>\n",
       "      <th>gas</th>\n",
       "      <th>gasUsed</th>\n",
       "      <th>hash</th>\n",
       "      <th>input</th>\n",
       "      <th>isError</th>\n",
       "      <th>timeStamp</th>\n",
       "      <th>to</th>\n",
       "      <th>traceId</th>\n",
       "      <th>type</th>\n",
       "      <th>value</th>\n",
       "    </tr>\n",
       "  </thead>\n",
       "  <tbody>\n",
       "    <tr>\n",
       "      <th>6</th>\n",
       "      <td>3903900</td>\n",
       "      <td></td>\n",
       "      <td></td>\n",
       "      <td>0xcc89405e3cfd38412093840a3ac2f851dd395dfb</td>\n",
       "      <td>161423</td>\n",
       "      <td>0</td>\n",
       "      <td>0xaf850c7b9f681e81e8f6b122658f1f42ee4bf428dad3...</td>\n",
       "      <td></td>\n",
       "      <td>0</td>\n",
       "      <td>2017-06-20 15:51:31</td>\n",
       "      <td>0x55d34b686aa8c04921397c5807db9ecedba00a4c</td>\n",
       "      <td>0</td>\n",
       "      <td>call</td>\n",
       "      <td>3244.894891</td>\n",
       "    </tr>\n",
       "    <tr>\n",
       "      <th>7</th>\n",
       "      <td>3903900</td>\n",
       "      <td></td>\n",
       "      <td></td>\n",
       "      <td>0x55d34b686aa8c04921397c5807db9ecedba00a4c</td>\n",
       "      <td>2300</td>\n",
       "      <td>0</td>\n",
       "      <td>0xaf850c7b9f681e81e8f6b122658f1f42ee4bf428dad3...</td>\n",
       "      <td></td>\n",
       "      <td>0</td>\n",
       "      <td>2017-06-20 15:51:31</td>\n",
       "      <td>0x2fdfdc48b4ca0021e4c629f137d151b5910e6cd0</td>\n",
       "      <td>0_1</td>\n",
       "      <td>call</td>\n",
       "      <td>500.000000</td>\n",
       "    </tr>\n",
       "    <tr>\n",
       "      <th>8</th>\n",
       "      <td>3903900</td>\n",
       "      <td></td>\n",
       "      <td></td>\n",
       "      <td>0x55d34b686aa8c04921397c5807db9ecedba00a4c</td>\n",
       "      <td>2300</td>\n",
       "      <td>0</td>\n",
       "      <td>0xaf850c7b9f681e81e8f6b122658f1f42ee4bf428dad3...</td>\n",
       "      <td></td>\n",
       "      <td>0</td>\n",
       "      <td>2017-06-20 15:51:31</td>\n",
       "      <td>0xcc89405e3cfd38412093840a3ac2f851dd395dfb</td>\n",
       "      <td>0_2</td>\n",
       "      <td>call</td>\n",
       "      <td>2744.894891</td>\n",
       "    </tr>\n",
       "    <tr>\n",
       "      <th>10</th>\n",
       "      <td>3903901</td>\n",
       "      <td></td>\n",
       "      <td></td>\n",
       "      <td>0x55d34b686aa8c04921397c5807db9ecedba00a4c</td>\n",
       "      <td>2300</td>\n",
       "      <td>0</td>\n",
       "      <td>0x85ba04d202869e21adc569f447a736de0b1036d00c67...</td>\n",
       "      <td></td>\n",
       "      <td>0</td>\n",
       "      <td>2017-06-20 15:52:09</td>\n",
       "      <td>0x2fdfdc48b4ca0021e4c629f137d151b5910e6cd0</td>\n",
       "      <td>1</td>\n",
       "      <td>call</td>\n",
       "      <td>5999.050000</td>\n",
       "    </tr>\n",
       "    <tr>\n",
       "      <th>11</th>\n",
       "      <td>3903901</td>\n",
       "      <td></td>\n",
       "      <td></td>\n",
       "      <td>0x55d34b686aa8c04921397c5807db9ecedba00a4c</td>\n",
       "      <td>2300</td>\n",
       "      <td>0</td>\n",
       "      <td>0xf055c55e92f4047427cfc12b503c5e8395a818e3e4de...</td>\n",
       "      <td></td>\n",
       "      <td>0</td>\n",
       "      <td>2017-06-20 15:52:09</td>\n",
       "      <td>0x2fdfdc48b4ca0021e4c629f137d151b5910e6cd0</td>\n",
       "      <td>1</td>\n",
       "      <td>call</td>\n",
       "      <td>249.000000</td>\n",
       "    </tr>\n",
       "  </tbody>\n",
       "</table>\n",
       "</div>"
      ],
      "text/plain": [
       "    blockNumber contractAddress errCode  \\\n",
       "6       3903900                           \n",
       "7       3903900                           \n",
       "8       3903900                           \n",
       "10      3903901                           \n",
       "11      3903901                           \n",
       "\n",
       "                                          from     gas gasUsed  \\\n",
       "6   0xcc89405e3cfd38412093840a3ac2f851dd395dfb  161423       0   \n",
       "7   0x55d34b686aa8c04921397c5807db9ecedba00a4c    2300       0   \n",
       "8   0x55d34b686aa8c04921397c5807db9ecedba00a4c    2300       0   \n",
       "10  0x55d34b686aa8c04921397c5807db9ecedba00a4c    2300       0   \n",
       "11  0x55d34b686aa8c04921397c5807db9ecedba00a4c    2300       0   \n",
       "\n",
       "                                                 hash input isError  \\\n",
       "6   0xaf850c7b9f681e81e8f6b122658f1f42ee4bf428dad3...             0   \n",
       "7   0xaf850c7b9f681e81e8f6b122658f1f42ee4bf428dad3...             0   \n",
       "8   0xaf850c7b9f681e81e8f6b122658f1f42ee4bf428dad3...             0   \n",
       "10  0x85ba04d202869e21adc569f447a736de0b1036d00c67...             0   \n",
       "11  0xf055c55e92f4047427cfc12b503c5e8395a818e3e4de...             0   \n",
       "\n",
       "             timeStamp                                          to traceId  \\\n",
       "6  2017-06-20 15:51:31  0x55d34b686aa8c04921397c5807db9ecedba00a4c       0   \n",
       "7  2017-06-20 15:51:31  0x2fdfdc48b4ca0021e4c629f137d151b5910e6cd0     0_1   \n",
       "8  2017-06-20 15:51:31  0xcc89405e3cfd38412093840a3ac2f851dd395dfb     0_2   \n",
       "10 2017-06-20 15:52:09  0x2fdfdc48b4ca0021e4c629f137d151b5910e6cd0       1   \n",
       "11 2017-06-20 15:52:09  0x2fdfdc48b4ca0021e4c629f137d151b5910e6cd0       1   \n",
       "\n",
       "    type        value  \n",
       "6   call  3244.894891  \n",
       "7   call   500.000000  \n",
       "8   call  2744.894891  \n",
       "10  call  5999.050000  \n",
       "11  call   249.000000  "
      ]
     },
     "execution_count": 9,
     "metadata": {},
     "output_type": "execute_result"
    }
   ],
   "source": [
    "# Only take successful internal value transfers\n",
    "df_int = df_int[(df_int.isError == '0') & (df_int.value > 0)]\n",
    "df_int.head()"
   ]
  },
  {
   "cell_type": "code",
   "execution_count": 10,
   "metadata": {
    "collapsed": true
   },
   "outputs": [],
   "source": [
    "df_int.loc[(df_int['to'] != '0x2fdfdc48b4ca0021e4c629f137d151b5910e6cd0'), 'value'] = [-value for value in df_int.loc[(df_int['to'] != '0x2fdfdc48b4ca0021e4c629f137d151b5910e6cd0'), 'value'].values]\n"
   ]
  },
  {
   "cell_type": "code",
   "execution_count": 42,
   "metadata": {},
   "outputs": [
    {
     "data": {
      "text/plain": [
       "<matplotlib.axes._subplots.AxesSubplot at 0x124e42e48>"
      ]
     },
     "execution_count": 42,
     "metadata": {},
     "output_type": "execute_result"
    },
    {
     "data": {
      "image/png": "[encoded data removed]",
      "text/plain": [
       "<matplotlib.figure.Figure at 0x10d5fcb00>"
      ]
     },
     "metadata": {},
     "output_type": "display_data"
    }
   ],
   "source": [
    "num_attempts = pd.DataFrame(df[(df.isError == '0') & (df.value > 0)]['from'].value_counts()).reset_index()\n",
    "num_multiple = len(num_attempts[num_attempts['from'] > 1])\n",
    "pd.DataFrame(num_attempts['from'].value_counts()).sort_index().plot(kind='bar', figsize=(10,5))"
   ]
  },
  {
   "cell_type": "code",
   "execution_count": null,
   "metadata": {
    "collapsed": true
   },
   "outputs": [],
   "source": []
  },
  {
   "cell_type": "markdown",
   "metadata": {},
   "source": [
    "## Amount and Length kicked back from Dynamic Ceiling Caps"
   ]
  },
  {
   "cell_type": "code",
   "execution_count": 11,
   "metadata": {
    "scrolled": true
   },
   "outputs": [
    {
     "name": "stdout",
     "output_type": "stream",
     "text": [
      "Amount Accepted: -347154.72868632444\n",
      "Number Accounts: 11161\n"
     ]
    }
   ],
   "source": [
    "print(\"Amount Accepted: {}\".format(df_int.loc[(df_int['to'] != '0x2fdfdc48b4ca0021e4c629f137d151b5910e6cd0')].value.sum()))\n",
    "print(\"Number Accounts: {}\".format(df_int.loc[(df_int['to'] != '0x2fdfdc48b4ca0021e4c629f137d151b5910e6cd0')].value.count()))"
   ]
  },
  {
   "cell_type": "markdown",
   "metadata": {},
   "source": [
    "## Amount and Length Accepted from Dynamic Ceiling Caps"
   ]
  },
  {
   "cell_type": "code",
   "execution_count": 12,
   "metadata": {},
   "outputs": [
    {
     "name": "stdout",
     "output_type": "stream",
     "text": [
      "Amount Accepted: 299897.83999999997\n",
      "Number Accounts: 28660\n"
     ]
    }
   ],
   "source": [
    "print(\"Amount Accepted: {}\".format(df_int.loc[(df_int['to'] == '0x2fdfdc48b4ca0021e4c629f137d151b5910e6cd0')].value.sum()))\n",
    "print(\"Number Accounts: {}\".format(df_int.loc[(df_int['to'] == '0x2fdfdc48b4ca0021e4c629f137d151b5910e6cd0')].value.count()))"
   ]
  },
  {
   "cell_type": "markdown",
   "metadata": {},
   "source": [
    "## Clean them up"
   ]
  },
  {
   "cell_type": "code",
   "execution_count": 13,
   "metadata": {
    "collapsed": true
   },
   "outputs": [],
   "source": [
    "icoFirstTxBlock = 3903900\n",
    "icoLastTxBlock =  3908029"
   ]
  },
  {
   "cell_type": "code",
   "execution_count": 24,
   "metadata": {},
   "outputs": [
    {
     "data": {
      "text/html": [
       "<div>\n",
       "<table border=\"1\" class=\"dataframe\">\n",
       "  <thead>\n",
       "    <tr style=\"text-align: right;\">\n",
       "      <th></th>\n",
       "      <th>blockNumber</th>\n",
       "      <th>contractAddress</th>\n",
       "      <th>errCode</th>\n",
       "      <th>from</th>\n",
       "      <th>gas</th>\n",
       "      <th>gasUsed</th>\n",
       "      <th>hash</th>\n",
       "      <th>input</th>\n",
       "      <th>isError</th>\n",
       "      <th>timeStamp</th>\n",
       "      <th>to</th>\n",
       "      <th>traceId</th>\n",
       "      <th>type</th>\n",
       "      <th>value</th>\n",
       "    </tr>\n",
       "  </thead>\n",
       "  <tbody>\n",
       "    <tr>\n",
       "      <th>6</th>\n",
       "      <td>3903900</td>\n",
       "      <td></td>\n",
       "      <td></td>\n",
       "      <td>0xcc89405e3cfd38412093840a3ac2f851dd395dfb</td>\n",
       "      <td>161423</td>\n",
       "      <td>0</td>\n",
       "      <td>0xaf850c7b9f681e81e8f6b122658f1f42ee4bf428dad3...</td>\n",
       "      <td></td>\n",
       "      <td>0</td>\n",
       "      <td>2017-06-20 15:51:31</td>\n",
       "      <td>0x55d34b686aa8c04921397c5807db9ecedba00a4c</td>\n",
       "      <td>0</td>\n",
       "      <td>call</td>\n",
       "      <td>-3244.894891</td>\n",
       "    </tr>\n",
       "    <tr>\n",
       "      <th>7</th>\n",
       "      <td>3903900</td>\n",
       "      <td></td>\n",
       "      <td></td>\n",
       "      <td>0x55d34b686aa8c04921397c5807db9ecedba00a4c</td>\n",
       "      <td>2300</td>\n",
       "      <td>0</td>\n",
       "      <td>0xaf850c7b9f681e81e8f6b122658f1f42ee4bf428dad3...</td>\n",
       "      <td></td>\n",
       "      <td>0</td>\n",
       "      <td>2017-06-20 15:51:31</td>\n",
       "      <td>0x2fdfdc48b4ca0021e4c629f137d151b5910e6cd0</td>\n",
       "      <td>0_1</td>\n",
       "      <td>call</td>\n",
       "      <td>500.000000</td>\n",
       "    </tr>\n",
       "    <tr>\n",
       "      <th>8</th>\n",
       "      <td>3903900</td>\n",
       "      <td></td>\n",
       "      <td></td>\n",
       "      <td>0x55d34b686aa8c04921397c5807db9ecedba00a4c</td>\n",
       "      <td>2300</td>\n",
       "      <td>0</td>\n",
       "      <td>0xaf850c7b9f681e81e8f6b122658f1f42ee4bf428dad3...</td>\n",
       "      <td></td>\n",
       "      <td>0</td>\n",
       "      <td>2017-06-20 15:51:31</td>\n",
       "      <td>0xcc89405e3cfd38412093840a3ac2f851dd395dfb</td>\n",
       "      <td>0_2</td>\n",
       "      <td>call</td>\n",
       "      <td>-2744.894891</td>\n",
       "    </tr>\n",
       "    <tr>\n",
       "      <th>10</th>\n",
       "      <td>3903901</td>\n",
       "      <td></td>\n",
       "      <td></td>\n",
       "      <td>0x55d34b686aa8c04921397c5807db9ecedba00a4c</td>\n",
       "      <td>2300</td>\n",
       "      <td>0</td>\n",
       "      <td>0x85ba04d202869e21adc569f447a736de0b1036d00c67...</td>\n",
       "      <td></td>\n",
       "      <td>0</td>\n",
       "      <td>2017-06-20 15:52:09</td>\n",
       "      <td>0x2fdfdc48b4ca0021e4c629f137d151b5910e6cd0</td>\n",
       "      <td>1</td>\n",
       "      <td>call</td>\n",
       "      <td>5999.050000</td>\n",
       "    </tr>\n",
       "    <tr>\n",
       "      <th>11</th>\n",
       "      <td>3903901</td>\n",
       "      <td></td>\n",
       "      <td></td>\n",
       "      <td>0x55d34b686aa8c04921397c5807db9ecedba00a4c</td>\n",
       "      <td>2300</td>\n",
       "      <td>0</td>\n",
       "      <td>0xf055c55e92f4047427cfc12b503c5e8395a818e3e4de...</td>\n",
       "      <td></td>\n",
       "      <td>0</td>\n",
       "      <td>2017-06-20 15:52:09</td>\n",
       "      <td>0x2fdfdc48b4ca0021e4c629f137d151b5910e6cd0</td>\n",
       "      <td>1</td>\n",
       "      <td>call</td>\n",
       "      <td>249.000000</td>\n",
       "    </tr>\n",
       "  </tbody>\n",
       "</table>\n",
       "</div>"
      ],
      "text/plain": [
       "    blockNumber contractAddress errCode  \\\n",
       "6       3903900                           \n",
       "7       3903900                           \n",
       "8       3903900                           \n",
       "10      3903901                           \n",
       "11      3903901                           \n",
       "\n",
       "                                          from     gas gasUsed  \\\n",
       "6   0xcc89405e3cfd38412093840a3ac2f851dd395dfb  161423       0   \n",
       "7   0x55d34b686aa8c04921397c5807db9ecedba00a4c    2300       0   \n",
       "8   0x55d34b686aa8c04921397c5807db9ecedba00a4c    2300       0   \n",
       "10  0x55d34b686aa8c04921397c5807db9ecedba00a4c    2300       0   \n",
       "11  0x55d34b686aa8c04921397c5807db9ecedba00a4c    2300       0   \n",
       "\n",
       "                                                 hash input isError  \\\n",
       "6   0xaf850c7b9f681e81e8f6b122658f1f42ee4bf428dad3...             0   \n",
       "7   0xaf850c7b9f681e81e8f6b122658f1f42ee4bf428dad3...             0   \n",
       "8   0xaf850c7b9f681e81e8f6b122658f1f42ee4bf428dad3...             0   \n",
       "10  0x85ba04d202869e21adc569f447a736de0b1036d00c67...             0   \n",
       "11  0xf055c55e92f4047427cfc12b503c5e8395a818e3e4de...             0   \n",
       "\n",
       "             timeStamp                                          to traceId  \\\n",
       "6  2017-06-20 15:51:31  0x55d34b686aa8c04921397c5807db9ecedba00a4c       0   \n",
       "7  2017-06-20 15:51:31  0x2fdfdc48b4ca0021e4c629f137d151b5910e6cd0     0_1   \n",
       "8  2017-06-20 15:51:31  0xcc89405e3cfd38412093840a3ac2f851dd395dfb     0_2   \n",
       "10 2017-06-20 15:52:09  0x2fdfdc48b4ca0021e4c629f137d151b5910e6cd0       1   \n",
       "11 2017-06-20 15:52:09  0x2fdfdc48b4ca0021e4c629f137d151b5910e6cd0       1   \n",
       "\n",
       "    type        value  \n",
       "6   call -3244.894891  \n",
       "7   call   500.000000  \n",
       "8   call -2744.894891  \n",
       "10  call  5999.050000  \n",
       "11  call   249.000000  "
      ]
     },
     "execution_count": 24,
     "metadata": {},
     "output_type": "execute_result"
    }
   ],
   "source": [
    "mask1 = (df_int.isError == '0')\n",
    "mask2 = (df_int.value < 0)\n",
    "df_int.head()"
   ]
  },
  {
   "cell_type": "code",
   "execution_count": 25,
   "metadata": {},
   "outputs": [],
   "source": [
    "test1 = df.loc[(df.isError == '0') & (df.value > 0),['from','value']].groupby('from').sum().reset_index()\n",
    "test2 = df_int.loc[mask1 & (df_int.value != 0),['to','value',]].groupby('to').sum().reset_index()\n",
    "kickbacked = pd.merge(test1, test2,left_on='from', right_on='to')\n",
    "# kickbacked['value'] = kickbacked.value_x + kickbacked.value_y"
   ]
  },
  {
   "cell_type": "code",
   "execution_count": 26,
   "metadata": {
    "collapsed": true,
    "scrolled": true
   },
   "outputs": [],
   "source": [
    "fulfilled = pd.merge(df[(df.isError == '0') & (df.value > 0)], kickbacked, on='from', how='outer', indicator=True).query('_merge == \"left_only\"').drop(['_merge'], axis=1)"
   ]
  },
  {
   "cell_type": "code",
   "execution_count": 27,
   "metadata": {},
   "outputs": [
    {
     "data": {
      "text/html": [
       "<div>\n",
       "<table border=\"1\" class=\"dataframe\">\n",
       "  <thead>\n",
       "    <tr style=\"text-align: right;\">\n",
       "      <th></th>\n",
       "      <th>blockHash</th>\n",
       "      <th>blockNumber</th>\n",
       "      <th>confirmations</th>\n",
       "      <th>contractAddress</th>\n",
       "      <th>cumulativeGasUsed</th>\n",
       "      <th>from</th>\n",
       "      <th>gas</th>\n",
       "      <th>gasPrice</th>\n",
       "      <th>gasUsed</th>\n",
       "      <th>hash</th>\n",
       "      <th>input</th>\n",
       "      <th>isError</th>\n",
       "      <th>nonce</th>\n",
       "      <th>timeStamp</th>\n",
       "      <th>to_x</th>\n",
       "      <th>transactionIndex</th>\n",
       "      <th>value</th>\n",
       "      <th>value_x</th>\n",
       "      <th>to_y</th>\n",
       "      <th>value_y</th>\n",
       "    </tr>\n",
       "  </thead>\n",
       "  <tbody>\n",
       "    <tr>\n",
       "      <th>0</th>\n",
       "      <td>0xe26835700cd697a556780758119c336d9dcaba937fd3...</td>\n",
       "      <td>3903901</td>\n",
       "      <td>33972</td>\n",
       "      <td></td>\n",
       "      <td>1100010</td>\n",
       "      <td>0xa65e9fec4f892ef6e9fe3888ed9b0eb6aab1f0fd</td>\n",
       "      <td>500000</td>\n",
       "      <td>500604713730</td>\n",
       "      <td>137010</td>\n",
       "      <td>0x85ba04d202869e21adc569f447a736de0b1036d00c67...</td>\n",
       "      <td>0x</td>\n",
       "      <td>0</td>\n",
       "      <td>113</td>\n",
       "      <td>2017-06-20 15:52:09</td>\n",
       "      <td>0x55d34b686aa8c04921397c5807db9ecedba00a4c</td>\n",
       "      <td>5</td>\n",
       "      <td>5999.05</td>\n",
       "      <td>NaN</td>\n",
       "      <td>NaN</td>\n",
       "      <td>NaN</td>\n",
       "    </tr>\n",
       "    <tr>\n",
       "      <th>1</th>\n",
       "      <td>0xe26835700cd697a556780758119c336d9dcaba937fd3...</td>\n",
       "      <td>3903901</td>\n",
       "      <td>33972</td>\n",
       "      <td></td>\n",
       "      <td>1216336</td>\n",
       "      <td>0xfb6494df0cf00f566feba0f2389ea16c4838e290</td>\n",
       "      <td>200000</td>\n",
       "      <td>500000000000</td>\n",
       "      <td>116326</td>\n",
       "      <td>0xf055c55e92f4047427cfc12b503c5e8395a818e3e4de...</td>\n",
       "      <td>0x</td>\n",
       "      <td>0</td>\n",
       "      <td>5</td>\n",
       "      <td>2017-06-20 15:52:09</td>\n",
       "      <td>0x55d34b686aa8c04921397c5807db9ecedba00a4c</td>\n",
       "      <td>6</td>\n",
       "      <td>249.00</td>\n",
       "      <td>NaN</td>\n",
       "      <td>NaN</td>\n",
       "      <td>NaN</td>\n",
       "    </tr>\n",
       "    <tr>\n",
       "      <th>8</th>\n",
       "      <td>0xe26835700cd697a556780758119c336d9dcaba937fd3...</td>\n",
       "      <td>3903901</td>\n",
       "      <td>33972</td>\n",
       "      <td></td>\n",
       "      <td>2255176</td>\n",
       "      <td>0x5b8d84105a7a1c34ed556e835a37be4d6c535463</td>\n",
       "      <td>200000</td>\n",
       "      <td>200000000000</td>\n",
       "      <td>116326</td>\n",
       "      <td>0xe37d2f55b5a3490b5fc225ee4bc3658ec1bc182d779f...</td>\n",
       "      <td>0x</td>\n",
       "      <td>0</td>\n",
       "      <td>1</td>\n",
       "      <td>2017-06-20 15:52:09</td>\n",
       "      <td>0x55d34b686aa8c04921397c5807db9ecedba00a4c</td>\n",
       "      <td>16</td>\n",
       "      <td>275.00</td>\n",
       "      <td>NaN</td>\n",
       "      <td>NaN</td>\n",
       "      <td>NaN</td>\n",
       "    </tr>\n",
       "    <tr>\n",
       "      <th>9</th>\n",
       "      <td>0x23cda3a9c08029ff34701b8137b3e4dd233468859670...</td>\n",
       "      <td>3903902</td>\n",
       "      <td>33971</td>\n",
       "      <td></td>\n",
       "      <td>137010</td>\n",
       "      <td>0x007c5b29b40ed7fd691b0cd2430751f9e4831697</td>\n",
       "      <td>210000</td>\n",
       "      <td>1000000000000</td>\n",
       "      <td>137010</td>\n",
       "      <td>0x0242264016707ae2273c681c0524ec92fe8fe8eb4b6b...</td>\n",
       "      <td>0x</td>\n",
       "      <td>0</td>\n",
       "      <td>0</td>\n",
       "      <td>2017-06-20 15:52:22</td>\n",
       "      <td>0x55d34b686aa8c04921397c5807db9ecedba00a4c</td>\n",
       "      <td>0</td>\n",
       "      <td>2000.00</td>\n",
       "      <td>NaN</td>\n",
       "      <td>NaN</td>\n",
       "      <td>NaN</td>\n",
       "    </tr>\n",
       "    <tr>\n",
       "      <th>10</th>\n",
       "      <td>0x207376a5935eba4b4bc35d8b43a3563979438aeeadab...</td>\n",
       "      <td>3903903</td>\n",
       "      <td>33970</td>\n",
       "      <td></td>\n",
       "      <td>4369238</td>\n",
       "      <td>0x0080cdc66a5a0d17745de6e12fbc5fecb6b5460a</td>\n",
       "      <td>200000</td>\n",
       "      <td>250000000000</td>\n",
       "      <td>137010</td>\n",
       "      <td>0xe415939051ca87a36aa3be1c4a204dfa09579f192cf7...</td>\n",
       "      <td>0x</td>\n",
       "      <td>0</td>\n",
       "      <td>2</td>\n",
       "      <td>2017-06-20 15:52:48</td>\n",
       "      <td>0x55d34b686aa8c04921397c5807db9ecedba00a4c</td>\n",
       "      <td>25</td>\n",
       "      <td>2999.90</td>\n",
       "      <td>NaN</td>\n",
       "      <td>NaN</td>\n",
       "      <td>NaN</td>\n",
       "    </tr>\n",
       "  </tbody>\n",
       "</table>\n",
       "</div>"
      ],
      "text/plain": [
       "                                            blockHash  blockNumber  \\\n",
       "0   0xe26835700cd697a556780758119c336d9dcaba937fd3...      3903901   \n",
       "1   0xe26835700cd697a556780758119c336d9dcaba937fd3...      3903901   \n",
       "8   0xe26835700cd697a556780758119c336d9dcaba937fd3...      3903901   \n",
       "9   0x23cda3a9c08029ff34701b8137b3e4dd233468859670...      3903902   \n",
       "10  0x207376a5935eba4b4bc35d8b43a3563979438aeeadab...      3903903   \n",
       "\n",
       "   confirmations contractAddress cumulativeGasUsed  \\\n",
       "0          33972                           1100010   \n",
       "1          33972                           1216336   \n",
       "8          33972                           2255176   \n",
       "9          33971                            137010   \n",
       "10         33970                           4369238   \n",
       "\n",
       "                                          from     gas       gasPrice gasUsed  \\\n",
       "0   0xa65e9fec4f892ef6e9fe3888ed9b0eb6aab1f0fd  500000   500604713730  137010   \n",
       "1   0xfb6494df0cf00f566feba0f2389ea16c4838e290  200000   500000000000  116326   \n",
       "8   0x5b8d84105a7a1c34ed556e835a37be4d6c535463  200000   200000000000  116326   \n",
       "9   0x007c5b29b40ed7fd691b0cd2430751f9e4831697  210000  1000000000000  137010   \n",
       "10  0x0080cdc66a5a0d17745de6e12fbc5fecb6b5460a  200000   250000000000  137010   \n",
       "\n",
       "                                                 hash input isError nonce  \\\n",
       "0   0x85ba04d202869e21adc569f447a736de0b1036d00c67...    0x       0   113   \n",
       "1   0xf055c55e92f4047427cfc12b503c5e8395a818e3e4de...    0x       0     5   \n",
       "8   0xe37d2f55b5a3490b5fc225ee4bc3658ec1bc182d779f...    0x       0     1   \n",
       "9   0x0242264016707ae2273c681c0524ec92fe8fe8eb4b6b...    0x       0     0   \n",
       "10  0xe415939051ca87a36aa3be1c4a204dfa09579f192cf7...    0x       0     2   \n",
       "\n",
       "             timeStamp                                        to_x  \\\n",
       "0  2017-06-20 15:52:09  0x55d34b686aa8c04921397c5807db9ecedba00a4c   \n",
       "1  2017-06-20 15:52:09  0x55d34b686aa8c04921397c5807db9ecedba00a4c   \n",
       "8  2017-06-20 15:52:09  0x55d34b686aa8c04921397c5807db9ecedba00a4c   \n",
       "9  2017-06-20 15:52:22  0x55d34b686aa8c04921397c5807db9ecedba00a4c   \n",
       "10 2017-06-20 15:52:48  0x55d34b686aa8c04921397c5807db9ecedba00a4c   \n",
       "\n",
       "   transactionIndex    value  value_x to_y  value_y  \n",
       "0                 5  5999.05      NaN  NaN      NaN  \n",
       "1                 6   249.00      NaN  NaN      NaN  \n",
       "8                16   275.00      NaN  NaN      NaN  \n",
       "9                 0  2000.00      NaN  NaN      NaN  \n",
       "10               25  2999.90      NaN  NaN      NaN  "
      ]
     },
     "execution_count": 27,
     "metadata": {},
     "output_type": "execute_result"
    }
   ],
   "source": [
    "fulfilled.head()"
   ]
  },
  {
   "cell_type": "code",
   "execution_count": 28,
   "metadata": {
    "collapsed": true
   },
   "outputs": [],
   "source": [
    "kickbacked['value'] = kickbacked.value_x + kickbacked.value_y"
   ]
  },
  {
   "cell_type": "code",
   "execution_count": 29,
   "metadata": {},
   "outputs": [
    {
     "data": {
      "text/plain": [
       "559.08822227607016"
      ]
     },
     "execution_count": 29,
     "metadata": {},
     "output_type": "execute_result"
    }
   ],
   "source": [
    "total_eth_contrib = fulfilled.value.sum() + kickbacked.value.sum()\n",
    "total_eth_reported = 299902.24\n",
    "total_eth_reported - total_eth_contrib"
   ]
  },
  {
   "cell_type": "code",
   "execution_count": 30,
   "metadata": {},
   "outputs": [
    {
     "data": {
      "text/plain": [
       "6792283951.0490055"
      ]
     },
     "execution_count": 30,
     "metadata": {},
     "output_type": "execute_result"
    }
   ],
   "source": [
    "total_supply = total_eth_contrib * 10000 / (0.41 + (.1 - 0.0692894026))\n",
    "total_supply "
   ]
  },
  {
   "cell_type": "code",
   "execution_count": 31,
   "metadata": {
    "collapsed": true
   },
   "outputs": [],
   "source": [
    "# Reported numbers\n",
    "tot_supply_reported = 6804870174.878168246198837603\n",
    "reserve_alloc = 1973412350.714668791397662905\n",
    "sgt_alloc = 471505389.187865805561407178\n",
    "coredev_alloc = 1360974034.97563364923976752"
   ]
  },
  {
   "cell_type": "code",
   "execution_count": 32,
   "metadata": {},
   "outputs": [
    {
     "name": "stdout",
     "output_type": "stream",
     "text": [
      "reserve perc: 0.29\n",
      "sgt perc:     0.0692894026\n",
      "core dee perc 0.2\n"
     ]
    }
   ],
   "source": [
    "print(\"reserve perc: {}\".format(reserve_alloc / tot_supply_reported))\n",
    "print('sgt perc:     {}'.format(sgt_alloc/tot_supply_reported))\n",
    "print('core dee perc {}'.format(coredev_alloc/tot_supply_reported))    "
   ]
  },
  {
   "cell_type": "code",
   "execution_count": 33,
   "metadata": {},
   "outputs": [
    {
     "data": {
      "text/plain": [
       "0.44071059739999996"
      ]
     },
     "execution_count": 33,
     "metadata": {},
     "output_type": "execute_result"
    }
   ],
   "source": [
    ".41 + (.1 - 0.0692894026)"
   ]
  },
  {
   "cell_type": "code",
   "execution_count": 34,
   "metadata": {},
   "outputs": [
    {
     "data": {
      "text/plain": [
       "22773"
      ]
     },
     "execution_count": 34,
     "metadata": {},
     "output_type": "execute_result"
    }
   ],
   "source": [
    "len(kickbacked['from'].unique()) + len(fulfilled['from'].unique())"
   ]
  },
  {
   "cell_type": "code",
   "execution_count": 47,
   "metadata": {},
   "outputs": [
    {
     "data": {
      "text/plain": [
       "blockHash            32102\n",
       "blockNumber          32102\n",
       "confirmations        32102\n",
       "contractAddress      32102\n",
       "cumulativeGasUsed    32102\n",
       "from                 32102\n",
       "gas                  32102\n",
       "gasPrice             32102\n",
       "gasUsed              32102\n",
       "hash                 32102\n",
       "input                32102\n",
       "isError              32102\n",
       "nonce                32102\n",
       "timeStamp            32102\n",
       "to                   32102\n",
       "transactionIndex     32102\n",
       "value                32102\n",
       "dtype: int64"
      ]
     },
     "execution_count": 47,
     "metadata": {},
     "output_type": "execute_result"
    }
   ],
   "source": [
    "# Check total of successful ETH transactions\n",
    "cleared = df[(df.isError == '0')]\n",
    "cleared_nz = cleared[cleared.value != 0]\n",
    "cleared_nz.count()"
   ]
  },
  {
   "cell_type": "markdown",
   "metadata": {},
   "source": [
    "## Exploration"
   ]
  },
  {
   "cell_type": "markdown",
   "metadata": {},
   "source": [
    "## Number of Transactions per Block"
   ]
  },
  {
   "cell_type": "code",
   "execution_count": 143,
   "metadata": {},
   "outputs": [
    {
     "data": {
      "text/plain": [
       "<matplotlib.axes._subplots.AxesSubplot at 0x11086e748>"
      ]
     },
     "execution_count": 143,
     "metadata": {},
     "output_type": "execute_result"
    },
    {
     "data": {
      "image/png": "[encoded data removed]",
      "text/plain": [
       "<matplotlib.figure.Figure at 0x10edb0438>"
      ]
     },
     "metadata": {},
     "output_type": "display_data"
    }
   ],
   "source": [
    "df[(df.blockNumber >= icoFirstTxBlock) & (df.blockNumber <= icoLastTxBlock)].groupby(['blockNumber','isError']).size().plot(figsize=(20,5))"
   ]
  },
  {
   "cell_type": "code",
   "execution_count": 48,
   "metadata": {},
   "outputs": [
    {
     "data": {
      "text/html": [
       "<div>\n",
       "<table border=\"1\" class=\"dataframe\">\n",
       "  <thead>\n",
       "    <tr style=\"text-align: right;\">\n",
       "      <th></th>\n",
       "      <th>blockHash</th>\n",
       "      <th>blockNumber</th>\n",
       "      <th>confirmations</th>\n",
       "      <th>contractAddress</th>\n",
       "      <th>cumulativeGasUsed</th>\n",
       "      <th>from</th>\n",
       "      <th>gas</th>\n",
       "      <th>gasPrice</th>\n",
       "      <th>gasUsed</th>\n",
       "      <th>hash</th>\n",
       "      <th>...</th>\n",
       "      <th>isError</th>\n",
       "      <th>nonce</th>\n",
       "      <th>timeStamp</th>\n",
       "      <th>to</th>\n",
       "      <th>to_x</th>\n",
       "      <th>to_y</th>\n",
       "      <th>transactionIndex</th>\n",
       "      <th>value</th>\n",
       "      <th>value_x</th>\n",
       "      <th>value_y</th>\n",
       "    </tr>\n",
       "  </thead>\n",
       "  <tbody>\n",
       "    <tr>\n",
       "      <th>0</th>\n",
       "      <td>NaN</td>\n",
       "      <td>NaN</td>\n",
       "      <td>NaN</td>\n",
       "      <td>NaN</td>\n",
       "      <td>NaN</td>\n",
       "      <td>0x0000144de471f4cb630e6a00fa0c25d78245e645</td>\n",
       "      <td>NaN</td>\n",
       "      <td>NaN</td>\n",
       "      <td>NaN</td>\n",
       "      <td>NaN</td>\n",
       "      <td>...</td>\n",
       "      <td>NaN</td>\n",
       "      <td>NaN</td>\n",
       "      <td>NaT</td>\n",
       "      <td>0x0000144de471f4cb630e6a00fa0c25d78245e645</td>\n",
       "      <td>NaN</td>\n",
       "      <td>NaN</td>\n",
       "      <td>NaN</td>\n",
       "      <td>2.500000</td>\n",
       "      <td>6.600000</td>\n",
       "      <td>-4.100000</td>\n",
       "    </tr>\n",
       "    <tr>\n",
       "      <th>1</th>\n",
       "      <td>NaN</td>\n",
       "      <td>NaN</td>\n",
       "      <td>NaN</td>\n",
       "      <td>NaN</td>\n",
       "      <td>NaN</td>\n",
       "      <td>0x000039fadc0e48bdbca90b1da643db1e56b320fb</td>\n",
       "      <td>NaN</td>\n",
       "      <td>NaN</td>\n",
       "      <td>NaN</td>\n",
       "      <td>NaN</td>\n",
       "      <td>...</td>\n",
       "      <td>NaN</td>\n",
       "      <td>NaN</td>\n",
       "      <td>NaT</td>\n",
       "      <td>0x000039fadc0e48bdbca90b1da643db1e56b320fb</td>\n",
       "      <td>NaN</td>\n",
       "      <td>NaN</td>\n",
       "      <td>NaN</td>\n",
       "      <td>4.261447</td>\n",
       "      <td>4.855595</td>\n",
       "      <td>-0.594148</td>\n",
       "    </tr>\n",
       "    <tr>\n",
       "      <th>2</th>\n",
       "      <td>NaN</td>\n",
       "      <td>NaN</td>\n",
       "      <td>NaN</td>\n",
       "      <td>NaN</td>\n",
       "      <td>NaN</td>\n",
       "      <td>0x00017689c4adb8a5680f14291e1fd646cc401a2d</td>\n",
       "      <td>NaN</td>\n",
       "      <td>NaN</td>\n",
       "      <td>NaN</td>\n",
       "      <td>NaN</td>\n",
       "      <td>...</td>\n",
       "      <td>NaN</td>\n",
       "      <td>NaN</td>\n",
       "      <td>NaT</td>\n",
       "      <td>0x00017689c4adb8a5680f14291e1fd646cc401a2d</td>\n",
       "      <td>NaN</td>\n",
       "      <td>NaN</td>\n",
       "      <td>NaN</td>\n",
       "      <td>3.109198</td>\n",
       "      <td>4.000000</td>\n",
       "      <td>-0.890802</td>\n",
       "    </tr>\n",
       "    <tr>\n",
       "      <th>3</th>\n",
       "      <td>NaN</td>\n",
       "      <td>NaN</td>\n",
       "      <td>NaN</td>\n",
       "      <td>NaN</td>\n",
       "      <td>NaN</td>\n",
       "      <td>0x0001d1cd4aab89b18df05f3061af743df4a919a8</td>\n",
       "      <td>NaN</td>\n",
       "      <td>NaN</td>\n",
       "      <td>NaN</td>\n",
       "      <td>NaN</td>\n",
       "      <td>...</td>\n",
       "      <td>NaN</td>\n",
       "      <td>NaN</td>\n",
       "      <td>NaT</td>\n",
       "      <td>0x0001d1cd4aab89b18df05f3061af743df4a919a8</td>\n",
       "      <td>NaN</td>\n",
       "      <td>NaN</td>\n",
       "      <td>NaN</td>\n",
       "      <td>11.711034</td>\n",
       "      <td>754.660000</td>\n",
       "      <td>-742.948966</td>\n",
       "    </tr>\n",
       "    <tr>\n",
       "      <th>4</th>\n",
       "      <td>NaN</td>\n",
       "      <td>NaN</td>\n",
       "      <td>NaN</td>\n",
       "      <td>NaN</td>\n",
       "      <td>NaN</td>\n",
       "      <td>0x0001fe7648a2c144becdf9f17f0055315a519f86</td>\n",
       "      <td>NaN</td>\n",
       "      <td>NaN</td>\n",
       "      <td>NaN</td>\n",
       "      <td>NaN</td>\n",
       "      <td>...</td>\n",
       "      <td>NaN</td>\n",
       "      <td>NaN</td>\n",
       "      <td>NaT</td>\n",
       "      <td>0x0001fe7648a2c144becdf9f17f0055315a519f86</td>\n",
       "      <td>NaN</td>\n",
       "      <td>NaN</td>\n",
       "      <td>NaN</td>\n",
       "      <td>0.000000</td>\n",
       "      <td>2.000000</td>\n",
       "      <td>-2.000000</td>\n",
       "    </tr>\n",
       "  </tbody>\n",
       "</table>\n",
       "<p>5 rows × 21 columns</p>\n",
       "</div>"
      ],
      "text/plain": [
       "  blockHash  blockNumber confirmations contractAddress cumulativeGasUsed  \\\n",
       "0       NaN          NaN           NaN             NaN               NaN   \n",
       "1       NaN          NaN           NaN             NaN               NaN   \n",
       "2       NaN          NaN           NaN             NaN               NaN   \n",
       "3       NaN          NaN           NaN             NaN               NaN   \n",
       "4       NaN          NaN           NaN             NaN               NaN   \n",
       "\n",
       "                                         from  gas gasPrice gasUsed hash  \\\n",
       "0  0x0000144de471f4cb630e6a00fa0c25d78245e645  NaN      NaN     NaN  NaN   \n",
       "1  0x000039fadc0e48bdbca90b1da643db1e56b320fb  NaN      NaN     NaN  NaN   \n",
       "2  0x00017689c4adb8a5680f14291e1fd646cc401a2d  NaN      NaN     NaN  NaN   \n",
       "3  0x0001d1cd4aab89b18df05f3061af743df4a919a8  NaN      NaN     NaN  NaN   \n",
       "4  0x0001fe7648a2c144becdf9f17f0055315a519f86  NaN      NaN     NaN  NaN   \n",
       "\n",
       "      ...     isError nonce timeStamp  \\\n",
       "0     ...         NaN   NaN       NaT   \n",
       "1     ...         NaN   NaN       NaT   \n",
       "2     ...         NaN   NaN       NaT   \n",
       "3     ...         NaN   NaN       NaT   \n",
       "4     ...         NaN   NaN       NaT   \n",
       "\n",
       "                                           to to_x to_y transactionIndex  \\\n",
       "0  0x0000144de471f4cb630e6a00fa0c25d78245e645  NaN  NaN              NaN   \n",
       "1  0x000039fadc0e48bdbca90b1da643db1e56b320fb  NaN  NaN              NaN   \n",
       "2  0x00017689c4adb8a5680f14291e1fd646cc401a2d  NaN  NaN              NaN   \n",
       "3  0x0001d1cd4aab89b18df05f3061af743df4a919a8  NaN  NaN              NaN   \n",
       "4  0x0001fe7648a2c144becdf9f17f0055315a519f86  NaN  NaN              NaN   \n",
       "\n",
       "       value     value_x     value_y  \n",
       "0   2.500000    6.600000   -4.100000  \n",
       "1   4.261447    4.855595   -0.594148  \n",
       "2   3.109198    4.000000   -0.890802  \n",
       "3  11.711034  754.660000 -742.948966  \n",
       "4   0.000000    2.000000   -2.000000  \n",
       "\n",
       "[5 rows x 21 columns]"
      ]
     },
     "execution_count": 48,
     "metadata": {},
     "output_type": "execute_result"
    }
   ],
   "source": [
    "combined_df = pd.concat([kickbacked, fulfilled])\n",
    "combined_df.head()\n",
    "# size_df = pd.DataFrame(df[(df.value != 0) & (df.isError == '0')].groupby('from').size())"
   ]
  },
  {
   "cell_type": "code",
   "execution_count": 35,
   "metadata": {
    "collapsed": true,
    "scrolled": true
   },
   "outputs": [],
   "source": [
    "combined = pd.concat([kickbacked, fulfilled])"
   ]
  },
  {
   "cell_type": "code",
   "execution_count": 51,
   "metadata": {},
   "outputs": [
    {
     "data": {
      "text/plain": [
       "299343.15177772398"
      ]
     },
     "execution_count": 51,
     "metadata": {},
     "output_type": "execute_result"
    }
   ],
   "source": [
    "combined.value.sum()"
   ]
  },
  {
   "cell_type": "code",
   "execution_count": 52,
   "metadata": {
    "collapsed": true
   },
   "outputs": [],
   "source": [
    "def label_exp_group(value):\n",
    "    labels = ['0', '1', '2', '3', '4', '5', '6', '7', '8']\n",
    "    for label in labels:\n",
    "        if value <= 10**float(label):\n",
    "            return label\n",
    "        \n",
    "combined['exp_group'] = combined.value.apply(label_exp_group)"
   ]
  },
  {
   "cell_type": "code",
   "execution_count": 64,
   "metadata": {},
   "outputs": [
    {
     "data": {
      "text/html": [
       "<div>\n",
       "<table border=\"1\" class=\"dataframe\">\n",
       "  <thead>\n",
       "    <tr style=\"text-align: right;\">\n",
       "      <th></th>\n",
       "      <th>from</th>\n",
       "      <th>value</th>\n",
       "    </tr>\n",
       "  </thead>\n",
       "  <tbody>\n",
       "    <tr>\n",
       "      <th>1739</th>\n",
       "      <td>0x2840c1162114780f3b617b030621022571c2bcb0</td>\n",
       "      <td>25000.0</td>\n",
       "    </tr>\n",
       "    <tr>\n",
       "      <th>7947</th>\n",
       "      <td>0xfe5fb336166cc6e55af9ae922ebc952f3de42327</td>\n",
       "      <td>25000.0</td>\n",
       "    </tr>\n",
       "    <tr>\n",
       "      <th>11</th>\n",
       "      <td>0x00ac1c84d1d0a2eaf6e8f504c7c96e6e82cb6333</td>\n",
       "      <td>29999.9</td>\n",
       "    </tr>\n",
       "    <tr>\n",
       "      <th>14</th>\n",
       "      <td>0x00d3b51fe558ee09c3ba4f9a3eb10053f855b2eb</td>\n",
       "      <td>11757.0</td>\n",
       "    </tr>\n",
       "  </tbody>\n",
       "</table>\n",
       "</div>"
      ],
      "text/plain": [
       "                                            from    value\n",
       "1739  0x2840c1162114780f3b617b030621022571c2bcb0  25000.0\n",
       "7947  0xfe5fb336166cc6e55af9ae922ebc952f3de42327  25000.0\n",
       "11    0x00ac1c84d1d0a2eaf6e8f504c7c96e6e82cb6333  29999.9\n",
       "14    0x00d3b51fe558ee09c3ba4f9a3eb10053f855b2eb  11757.0"
      ]
     },
     "execution_count": 64,
     "metadata": {},
     "output_type": "execute_result"
    }
   ],
   "source": [
    "combined[combined.exp_group == '5'][['from','value']]"
   ]
  },
  {
   "cell_type": "code",
   "execution_count": 65,
   "metadata": {},
   "outputs": [
    {
     "data": {
      "text/html": [
       "<div>\n",
       "<table border=\"1\" class=\"dataframe\">\n",
       "  <thead>\n",
       "    <tr style=\"text-align: right;\">\n",
       "      <th></th>\n",
       "      <th>from</th>\n",
       "      <th>value</th>\n",
       "    </tr>\n",
       "  </thead>\n",
       "  <tbody>\n",
       "    <tr>\n",
       "      <th>0</th>\n",
       "      <td>0xa65e9fec4f892ef6e9fe3888ed9b0eb6aab1f0fd</td>\n",
       "      <td>5999.05</td>\n",
       "    </tr>\n",
       "    <tr>\n",
       "      <th>9</th>\n",
       "      <td>0x007c5b29b40ed7fd691b0cd2430751f9e4831697</td>\n",
       "      <td>2000.00</td>\n",
       "    </tr>\n",
       "    <tr>\n",
       "      <th>10</th>\n",
       "      <td>0x0080cdc66a5a0d17745de6e12fbc5fecb6b5460a</td>\n",
       "      <td>2999.90</td>\n",
       "    </tr>\n",
       "    <tr>\n",
       "      <th>15</th>\n",
       "      <td>0x00e3fd9efefafdd1032b2540c02d45aa68c3d587</td>\n",
       "      <td>5000.00</td>\n",
       "    </tr>\n",
       "    <tr>\n",
       "      <th>38</th>\n",
       "      <td>0x2d0efca5e73e90c7707931678dfaef38c068ac10</td>\n",
       "      <td>1500.00</td>\n",
       "    </tr>\n",
       "    <tr>\n",
       "      <th>90</th>\n",
       "      <td>0xeb68aa2764b4a9a943658b2e61db4c902b2ebf85</td>\n",
       "      <td>7692.99</td>\n",
       "    </tr>\n",
       "  </tbody>\n",
       "</table>\n",
       "</div>"
      ],
      "text/plain": [
       "                                          from    value\n",
       "0   0xa65e9fec4f892ef6e9fe3888ed9b0eb6aab1f0fd  5999.05\n",
       "9   0x007c5b29b40ed7fd691b0cd2430751f9e4831697  2000.00\n",
       "10  0x0080cdc66a5a0d17745de6e12fbc5fecb6b5460a  2999.90\n",
       "15  0x00e3fd9efefafdd1032b2540c02d45aa68c3d587  5000.00\n",
       "38  0x2d0efca5e73e90c7707931678dfaef38c068ac10  1500.00\n",
       "90  0xeb68aa2764b4a9a943658b2e61db4c902b2ebf85  7692.99"
      ]
     },
     "execution_count": 65,
     "metadata": {},
     "output_type": "execute_result"
    }
   ],
   "source": [
    "combined[combined.exp_group == '4'][['from','value']]"
   ]
  },
  {
   "cell_type": "code",
   "execution_count": 53,
   "metadata": {
    "collapsed": true
   },
   "outputs": [],
   "source": [
    "grouped = pd.DataFrame(combined.groupby('exp_group').sum())\n",
    "grouped = grouped[['value']]\n",
    "grouped_size = pd.DataFrame(combined.groupby('exp_group').size())\n",
    "grouped['size'] = grouped_size[0].values\n",
    "grouped['size_perc'] = [trans / len(combined) * 100 for trans in grouped['size'].values]\n",
    "grouped['value_perc'] = [value / grouped.value.sum() * 44.07105974 for value in grouped.value.values]"
   ]
  },
  {
   "cell_type": "code",
   "execution_count": 54,
   "metadata": {},
   "outputs": [
    {
     "data": {
      "text/html": [
       "<div>\n",
       "<table border=\"1\" class=\"dataframe\">\n",
       "  <thead>\n",
       "    <tr style=\"text-align: right;\">\n",
       "      <th></th>\n",
       "      <th>size</th>\n",
       "      <th>size_perc</th>\n",
       "      <th>value</th>\n",
       "      <th>value_perc</th>\n",
       "    </tr>\n",
       "    <tr>\n",
       "      <th>exp_group</th>\n",
       "      <th></th>\n",
       "      <th></th>\n",
       "      <th></th>\n",
       "      <th></th>\n",
       "    </tr>\n",
       "  </thead>\n",
       "  <tbody>\n",
       "    <tr>\n",
       "      <th>0</th>\n",
       "      <td>8614</td>\n",
       "      <td>32.854037</td>\n",
       "      <td>3842.906476</td>\n",
       "      <td>0.565775</td>\n",
       "    </tr>\n",
       "    <tr>\n",
       "      <th>1</th>\n",
       "      <td>12879</td>\n",
       "      <td>49.120867</td>\n",
       "      <td>50284.239677</td>\n",
       "      <td>7.403142</td>\n",
       "    </tr>\n",
       "    <tr>\n",
       "      <th>2</th>\n",
       "      <td>4659</td>\n",
       "      <td>17.769556</td>\n",
       "      <td>115756.970032</td>\n",
       "      <td>17.042422</td>\n",
       "    </tr>\n",
       "    <tr>\n",
       "      <th>3</th>\n",
       "      <td>57</td>\n",
       "      <td>0.217400</td>\n",
       "      <td>12510.195593</td>\n",
       "      <td>1.841825</td>\n",
       "    </tr>\n",
       "    <tr>\n",
       "      <th>4</th>\n",
       "      <td>6</td>\n",
       "      <td>0.022884</td>\n",
       "      <td>25191.940000</td>\n",
       "      <td>3.708906</td>\n",
       "    </tr>\n",
       "    <tr>\n",
       "      <th>5</th>\n",
       "      <td>4</td>\n",
       "      <td>0.015256</td>\n",
       "      <td>91756.900000</td>\n",
       "      <td>13.508991</td>\n",
       "    </tr>\n",
       "  </tbody>\n",
       "</table>\n",
       "</div>"
      ],
      "text/plain": [
       "            size  size_perc          value  value_perc\n",
       "exp_group                                             \n",
       "0           8614  32.854037    3842.906476    0.565775\n",
       "1          12879  49.120867   50284.239677    7.403142\n",
       "2           4659  17.769556  115756.970032   17.042422\n",
       "3             57   0.217400   12510.195593    1.841825\n",
       "4              6   0.022884   25191.940000    3.708906\n",
       "5              4   0.015256   91756.900000   13.508991"
      ]
     },
     "execution_count": 54,
     "metadata": {},
     "output_type": "execute_result"
    }
   ],
   "source": [
    "grouped[['size','size_perc','value','value_perc']]"
   ]
  },
  {
   "cell_type": "code",
   "execution_count": 156,
   "metadata": {
    "scrolled": false
   },
   "outputs": [
    {
     "data": {
      "application/vnd.plotly.v1+json": {
       "data": [
        {
         "name": "Total ETH",
         "type": "bar",
         "y": [
          0.5657752978792412,
          7.403141570493649,
          17.04242208752785,
          1.8418245885289481,
          3.7089056025270155,
          13.508990593043292
         ]
        },
        {
         "name": "Addresses",
         "type": "bar",
         "y": [
          32.85403714863267,
          49.12086654716046,
          17.769556428544185,
          0.21739959571303252,
          0.0228841679697929,
          0.015256111979861932
         ]
        }
       ],
       "layout": {
        "height": 1500,
        "legend": {
         "font": {
          "color": "black",
          "size": 40
         },
         "x": 0,
         "y": 1
        },
        "margin": {
         "b": 400,
         "l": 200
        },
        "width": 3000,
        "xaxis": {
         "tickfont": {
          "color": "black",
          "size": 40
         },
         "ticktext": [
          "$0 < x < 10^0$",
          "$10^0 < x < 10^1$",
          "$10^1 < x < 10^2$",
          "$10^2 < x < 10^3$",
          "$10^3 < x < 10^4$",
          "$10^4 < x < 10^5$",
          "$10^5 < x < 10^6$",
          "Exchange"
         ],
         "tickvals": [
          0,
          1,
          2,
          3,
          4,
          5,
          6
         ],
         "title": "Investor Group",
         "titlefont": {
          "color": "black",
          "size": 50
         }
        },
        "yaxis": {
         "tickfont": {
          "color": "black",
          "size": 40
         },
         "title": "Percentage",
         "titlefont": {
          "color": "black",
          "size": 50
         }
        }
       }
      },
      "text/html": [
       "<div id=\"6476e685-6525-49bb-9633-866c639a2a79\" style=\"height: 1500px; width: 3000px;\" class=\"plotly-graph-div\"></div><script type=\"text/javascript\">require([\"plotly\"], function(Plotly) { window.PLOTLYENV=window.PLOTLYENV || {};window.PLOTLYENV.BASE_URL=\"https://plot.ly\";Plotly.newPlot(\"6476e685-6525-49bb-9633-866c639a2a79\", [{\"type\": \"bar\", \"y\": [0.5657752978792412, 7.403141570493649, 17.04242208752785, 1.8418245885289481, 3.7089056025270155, 13.508990593043292], \"name\": \"Total ETH\"}, {\"type\": \"bar\", \"y\": [32.85403714863267, 49.12086654716046, 17.769556428544185, 0.21739959571303252, 0.0228841679697929, 0.015256111979861932], \"name\": \"Addresses\"}], {\"margin\": {\"l\": 200, \"b\": 400}, \"width\": 3000, \"xaxis\": {\"title\": \"Investor Group\", \"ticktext\": [\"$0 < x < 10^0$\", \"$10^0 < x < 10^1$\", \"$10^1 < x < 10^2$\", \"$10^2 < x < 10^3$\", \"$10^3 < x < 10^4$\", \"$10^4 < x < 10^5$\", \"$10^5 < x < 10^6$\", \"Exchange\"], \"titlefont\": {\"size\": 50, \"color\": \"black\"}, \"tickfont\": {\"size\": 40, \"color\": \"black\"}, \"tickvals\": [0, 1, 2, 3, 4, 5, 6]}, \"yaxis\": {\"title\": \"Percentage\", \"titlefont\": {\"size\": 50, \"color\": \"black\"}, \"tickfont\": {\"size\": 40, \"color\": \"black\"}}, \"legend\": {\"y\": 1, \"font\": {\"size\": 40, \"color\": \"black\"}, \"x\": 0}, \"height\": 1500}, {\"linkText\": \"Export to plot.ly\", \"showLink\": true})});</script>"
      ],
      "text/vnd.plotly.v1+html": [
       "<div id=\"6476e685-6525-49bb-9633-866c639a2a79\" style=\"height: 1500px; width: 3000px;\" class=\"plotly-graph-div\"></div><script type=\"text/javascript\">require([\"plotly\"], function(Plotly) { window.PLOTLYENV=window.PLOTLYENV || {};window.PLOTLYENV.BASE_URL=\"https://plot.ly\";Plotly.newPlot(\"6476e685-6525-49bb-9633-866c639a2a79\", [{\"type\": \"bar\", \"y\": [0.5657752978792412, 7.403141570493649, 17.04242208752785, 1.8418245885289481, 3.7089056025270155, 13.508990593043292], \"name\": \"Total ETH\"}, {\"type\": \"bar\", \"y\": [32.85403714863267, 49.12086654716046, 17.769556428544185, 0.21739959571303252, 0.0228841679697929, 0.015256111979861932], \"name\": \"Addresses\"}], {\"margin\": {\"l\": 200, \"b\": 400}, \"width\": 3000, \"xaxis\": {\"title\": \"Investor Group\", \"ticktext\": [\"$0 < x < 10^0$\", \"$10^0 < x < 10^1$\", \"$10^1 < x < 10^2$\", \"$10^2 < x < 10^3$\", \"$10^3 < x < 10^4$\", \"$10^4 < x < 10^5$\", \"$10^5 < x < 10^6$\", \"Exchange\"], \"titlefont\": {\"size\": 50, \"color\": \"black\"}, \"tickfont\": {\"size\": 40, \"color\": \"black\"}, \"tickvals\": [0, 1, 2, 3, 4, 5, 6]}, \"yaxis\": {\"title\": \"Percentage\", \"titlefont\": {\"size\": 50, \"color\": \"black\"}, \"tickfont\": {\"size\": 40, \"color\": \"black\"}}, \"legend\": {\"y\": 1, \"font\": {\"size\": 40, \"color\": \"black\"}, \"x\": 0}, \"height\": 1500}, {\"linkText\": \"Export to plot.ly\", \"showLink\": true})});</script>"
      ]
     },
     "metadata": {},
     "output_type": "display_data"
    }
   ],
   "source": [
    "trace = go.Bar( \n",
    "    y=grouped.value_perc,\n",
    "    name='Total ETH'\n",
    ")\n",
    "trace2 = go.Bar( \n",
    "    y=grouped.size_perc,\n",
    "    name='Addresses',\n",
    ")\n",
    "data = Data([trace, trace2])\n",
    "layout = go.Layout(\n",
    "    xaxis=go.XAxis(\n",
    "        title='Investor Group',\n",
    "        ticktext = [\n",
    "                \"$0 < x < 10^0$\",\n",
    "                \"$10^0 < x < 10^1$\",\n",
    "                \"$10^1 < x < 10^2$\",\n",
    "                \"$10^2 < x < 10^3$\",\n",
    "                \"$10^3 < x < 10^4$\",\n",
    "                \"$10^4 < x < 10^5$\",\n",
    "                \"$10^5 < x < 10^6$\",\n",
    "                \"Exchange\"\n",
    "            ],\n",
    "        tickvals = [ 0, 1, 2, 3, 4, 5,6 ],\n",
    "        tickfont=dict(\n",
    "            size=40,\n",
    "            color='black'\n",
    "        ),\n",
    "        titlefont=dict(\n",
    "            size=50,\n",
    "            color='black'\n",
    "        ),\n",
    "    ),\n",
    "    yaxis=go.YAxis(\n",
    "        title='Percentage',\n",
    "        tickfont=dict(\n",
    "            size=40,\n",
    "            color='black'\n",
    "        ),\n",
    "        titlefont=dict(\n",
    "            size=50,\n",
    "            color='black'\n",
    "        ),\n",
    "    ),\n",
    "    legend=dict(\n",
    "        x=0,\n",
    "        y=1,\n",
    "        font=dict(\n",
    "            size=40,\n",
    "            color='black'\n",
    "        ),\n",
    "    ),\n",
    "    height=1500,\n",
    "    width=3000,\n",
    "     margin={\n",
    "        'b': 400,\n",
    "        'l': 200\n",
    "    },\n",
    "#    barmode='stack'\n",
    ")\n",
    "fig = go.Figure(data=data, layout=layout)\n",
    "\n",
    "iplot(fig)\n",
    "# py.iplot(fig, filename='Status_investor_percentage_breakdown')"
   ]
  },
  {
   "cell_type": "code",
   "execution_count": 33,
   "metadata": {},
   "outputs": [
    {
     "data": {
      "text/plain": [
       "4764.1901929536134"
      ]
     },
     "execution_count": 33,
     "metadata": {},
     "output_type": "execute_result"
    }
   ],
   "source": [
    "df[(df.isError == '0') & (df.value > 0) & (df.value <= 1)].value.sum()"
   ]
  },
  {
   "cell_type": "code",
   "execution_count": 34,
   "metadata": {},
   "outputs": [
    {
     "data": {
      "text/plain": [
       "7802"
      ]
     },
     "execution_count": 34,
     "metadata": {},
     "output_type": "execute_result"
    }
   ],
   "source": [
    "df[(df.isError == '0') & (df.value > 0) & (df.value <= 1)]['from'].count()"
   ]
  },
  {
   "cell_type": "code",
   "execution_count": 32,
   "metadata": {},
   "outputs": [
    {
     "data": {
      "text/plain": [
       "<matplotlib.axes._subplots.AxesSubplot at 0x10f3bcb70>"
      ]
     },
     "execution_count": 32,
     "metadata": {},
     "output_type": "execute_result"
    },
    {
     "name": "stderr",
     "output_type": "stream",
     "text": [
      "/Library/Frameworks/Python.framework/Versions/3.6/lib/python3.6/site-packages/matplotlib/figure.py:1742: UserWarning:\n",
      "\n",
      "This figure includes Axes that are not compatible with tight_layout, so its results might be incorrect.\n",
      "\n"
     ]
    },
    {
     "data": {
      "image/png": "[encoded data removed]",
      "text/plain": [
       "<matplotlib.figure.Figure at 0x112a5c7f0>"
      ]
     },
     "metadata": {},
     "output_type": "display_data"
    }
   ],
   "source": [
    "df[(df.isError == '0') & (df.value > 0) & (df.value <= 1)].value.plot.hist()"
   ]
  },
  {
   "cell_type": "code",
   "execution_count": 38,
   "metadata": {},
   "outputs": [
    {
     "data": {
      "text/plain": [
       "<matplotlib.axes._subplots.AxesSubplot at 0x112a6d8d0>"
      ]
     },
     "execution_count": 38,
     "metadata": {},
     "output_type": "execute_result"
    },
    {
     "name": "stderr",
     "output_type": "stream",
     "text": [
      "/Library/Frameworks/Python.framework/Versions/3.6/lib/python3.6/site-packages/matplotlib/figure.py:1742: UserWarning:\n",
      "\n",
      "This figure includes Axes that are not compatible with tight_layout, so its results might be incorrect.\n",
      "\n"
     ]
    },
    {
     "data": {
      "image/png": "[encoded data removed]",
      "text/plain": [
       "<matplotlib.figure.Figure at 0x10d670da0>"
      ]
     },
     "metadata": {},
     "output_type": "display_data"
    }
   ],
   "source": [
    "df[(df.isError == '0') & (df.value > 1) & (df.value <= 10)].value.plot.hist()"
   ]
  },
  {
   "cell_type": "code",
   "execution_count": 41,
   "metadata": {},
   "outputs": [
    {
     "data": {
      "text/plain": [
       "<matplotlib.axes._subplots.AxesSubplot at 0x10f59be10>"
      ]
     },
     "execution_count": 41,
     "metadata": {},
     "output_type": "execute_result"
    },
    {
     "name": "stderr",
     "output_type": "stream",
     "text": [
      "/Library/Frameworks/Python.framework/Versions/3.6/lib/python3.6/site-packages/matplotlib/figure.py:1742: UserWarning:\n",
      "\n",
      "This figure includes Axes that are not compatible with tight_layout, so its results might be incorrect.\n",
      "\n"
     ]
    },
    {
     "data": {
      "image/png": "[encoded data removed]",
      "text/plain": [
       "<matplotlib.figure.Figure at 0x10f535080>"
      ]
     },
     "metadata": {},
     "output_type": "display_data"
    }
   ],
   "source": [
    "df[(df.isError == '0') & (df.value > 10) & (df.value <= 100)].value.plot.hist()"
   ]
  },
  {
   "cell_type": "code",
   "execution_count": 42,
   "metadata": {},
   "outputs": [
    {
     "data": {
      "text/plain": [
       "<matplotlib.axes._subplots.AxesSubplot at 0x117f20860>"
      ]
     },
     "execution_count": 42,
     "metadata": {},
     "output_type": "execute_result"
    },
    {
     "name": "stderr",
     "output_type": "stream",
     "text": [
      "/Library/Frameworks/Python.framework/Versions/3.6/lib/python3.6/site-packages/matplotlib/figure.py:1742: UserWarning:\n",
      "\n",
      "This figure includes Axes that are not compatible with tight_layout, so its results might be incorrect.\n",
      "\n"
     ]
    },
    {
     "data": {
      "image/png": "[encoded data removed]",
      "text/plain": [
       "<matplotlib.figure.Figure at 0x10d65d908>"
      ]
     },
     "metadata": {},
     "output_type": "display_data"
    }
   ],
   "source": [
    "df[(df.isError == '0') & (df.value > 100) & (df.value <= 1000)].value.plot.hist()"
   ]
  },
  {
   "cell_type": "code",
   "execution_count": 43,
   "metadata": {},
   "outputs": [
    {
     "data": {
      "text/plain": [
       "<matplotlib.axes._subplots.AxesSubplot at 0x117c002e8>"
      ]
     },
     "execution_count": 43,
     "metadata": {},
     "output_type": "execute_result"
    },
    {
     "name": "stderr",
     "output_type": "stream",
     "text": [
      "/Library/Frameworks/Python.framework/Versions/3.6/lib/python3.6/site-packages/matplotlib/figure.py:1742: UserWarning:\n",
      "\n",
      "This figure includes Axes that are not compatible with tight_layout, so its results might be incorrect.\n",
      "\n"
     ]
    },
    {
     "data": {
      "image/png": "[encoded data removed]",
      "text/plain": [
       "<matplotlib.figure.Figure at 0x117c63cc0>"
      ]
     },
     "metadata": {},
     "output_type": "display_data"
    }
   ],
   "source": [
    "df[(df.isError == '0') & (df.value > 1000) & (df.value <= 10000)].value.plot.hist()"
   ]
  },
  {
   "cell_type": "code",
   "execution_count": 44,
   "metadata": {},
   "outputs": [
    {
     "data": {
      "text/plain": [
       "<matplotlib.axes._subplots.AxesSubplot at 0x117bd6550>"
      ]
     },
     "execution_count": 44,
     "metadata": {},
     "output_type": "execute_result"
    },
    {
     "name": "stderr",
     "output_type": "stream",
     "text": [
      "/Library/Frameworks/Python.framework/Versions/3.6/lib/python3.6/site-packages/matplotlib/figure.py:1742: UserWarning:\n",
      "\n",
      "This figure includes Axes that are not compatible with tight_layout, so its results might be incorrect.\n",
      "\n"
     ]
    },
    {
     "data": {
      "image/png": "[encoded data removed]",
      "text/plain": [
       "<matplotlib.figure.Figure at 0x10f597e10>"
      ]
     },
     "metadata": {},
     "output_type": "display_data"
    }
   ],
   "source": [
    "df[(df.isError == '0') & (df.value > 10000) & (df.value <= 100000)].value.plot.hist()"
   ]
  },
  {
   "cell_type": "code",
   "execution_count": null,
   "metadata": {
    "collapsed": true
   },
   "outputs": [],
   "source": []
  }
 ],
 "metadata": {
  "gist": {
   "data": {
    "description": "tokencard_analysis.ipynb",
    "public": true
   },
   "id": ""
  },
  "kernelspec": {
   "display_name": "Python 3",
   "language": "python",
   "name": "python3"
  },
  "language_info": {
   "codemirror_mode": {
    "name": "ipython",
    "version": 3
   },
   "file_extension": ".py",
   "mimetype": "text/x-python",
   "name": "python",
   "nbconvert_exporter": "python",
   "pygments_lexer": "ipython3",
   "version": "3.5.2"
  },
  "latex_envs": {
   "bibliofile": "biblio.bib",
   "cite_by": "apalike",
   "current_citInitial": 1,
   "eqLabelWithNumbers": true,
   "eqNumInitial": 0
  },
  "toc": {
   "nav_menu": {
    "height": "12px",
    "width": "252px"
   },
   "navigate_menu": true,
   "number_sections": true,
   "sideBar": true,
   "threshold": 4,
   "toc_cell": false,
   "toc_section_display": "block",
   "toc_window_display": false
  }
 },
 "nbformat": 4,
 "nbformat_minor": 2
}
